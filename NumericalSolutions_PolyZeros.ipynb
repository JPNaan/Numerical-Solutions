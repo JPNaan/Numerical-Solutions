{
 "cells": [
  {
   "cell_type": "markdown",
   "metadata": {},
   "source": [
    "## Numerical Analysis:  Finding Solutions"
   ]
  },
  {
   "cell_type": "code",
   "execution_count": 1,
   "metadata": {},
   "outputs": [],
   "source": [
    "from sympy import cos, sin, tan, acos, asin, atan, pi, E\n",
    "from sympy.abc import x, y, z"
   ]
  },
  {
   "cell_type": "code",
   "execution_count": 2,
   "metadata": {},
   "outputs": [],
   "source": [
    "def zero_check(fx, interval):\n",
    "    '''\n",
    "    This function checks if a zero exisits for a given polynomial on a given interval using the intermediate value theorem.\n",
    "    This function may not identify the existice of a function based upon the chosen interval.  Additionally, there may be\n",
    "    more than on zero within the interval, and this check will not identify that.\n",
    "    \n",
    "    INPUT:\n",
    "    fx - object:\n",
    "        single variable polynomial as a function of x\n",
    "    interval - touble:\n",
    "        the interval to check for a zero in the form [start interval, end interval]\n",
    "        \n",
    "    RETURN:\n",
    "    A print statement is returned confirming if the starting point is a zero, or if the end point is a zero or if the \n",
    "    Intermediate Value Theorem indicates that there is a point c on the interval (a,b) such that f(c) = 0.\n",
    "    '''\n",
    "    import sympy\n",
    "    \n",
    "    #Evaluate the interval at the end points, identify if either end point is a root, and confirm a root exists on interval\n",
    "    a = interval[0]\n",
    "    fa = fx.subs({x:a}).evalf()\n",
    "    if fa == 0: \n",
    "        print('x = %s is a solution of f' %a)\n",
    "        return\n",
    "    \n",
    "    b = interval[1]\n",
    "    fb = fx.subs({x:b}).evalf()\n",
    "    if fb == 0: \n",
    "        print('x = %s is a solution of f' %b)  \n",
    "        return\n",
    "    \n",
    "    if fa*fb < 0:\n",
    "        print('By the Intermediate Value Theorem there exists a zero in the interval of {}'.format(interval))\n",
    "        \n",
    "    else: print('The Intermediate Value Theorem is unable to determine if a zero exists on the givin interval')"
   ]
  },
  {
   "cell_type": "code",
   "execution_count": 3,
   "metadata": {},
   "outputs": [],
   "source": [
    "# Bisection Method for finding roots\n",
    "def bisect(fx, interval = [-1,0], stop_method = 'iter', stop_number = 10):\n",
    "    '''\n",
    "    This function applies the bisection method to evaluate the roots of a given funtion\n",
    "    \n",
    "    INPUT:\n",
    "    fx - Object\n",
    "        A polynomial function in variable x to be evaluated.  fx must be entered in python syntax\n",
    "    \n",
    "    interval - tuple\n",
    "        A list intended to indicate the begining and ending of the interval to search for a root \n",
    "        in the format [interval start, interval end]\n",
    "    \n",
    "    stop_method - string (OPTIONAL: Default = 'iter')\n",
    "        'iter' will be used to stop the algorithm after the stated number of iterations; \n",
    "        'acc' stops after obtaining the stated degree of accuracy\n",
    "        \n",
    "    stop_number - integer (OPTIONAL:  Default = 10)\n",
    "         The number of iterations or correct decimal places reqired as indicated in stop_method\n",
    "    \n",
    "    RETURN\n",
    "    The function will return both the original function, f(x), and the approximated root, x_n.\n",
    "    '''\n",
    "    \n",
    "    import math # used for the ceiling and log functions\n",
    "    import sympy\n",
    "    \n",
    "    a = interval[0]\n",
    "    b = interval[1]\n",
    "    fa = fx.subs({x:a}).evalf()\n",
    "    fb = fx.subs({x:b}).evalf()\n",
    "    \n",
    "    #If accuracy is the stop method, identify the required number of iterations\n",
    "    if stop_method == 'acc':\n",
    "        stop_number = math.ceil((math.log(b-a) - math.log(stop_number)) / math.log(2))\n",
    "    \n",
    "    #Confirm that a root exists on the interval, and perform the bisection method for the stated amount of iterations        \n",
    "    if fa * fb < 0:\n",
    "        for i in range(stop_number):\n",
    "            c = (a + b) / 2\n",
    "            fc = fx.subs({x:c}).evalf()\n",
    "            if fa * fc < 0:\n",
    "                b = c\n",
    "                fa = fx.subs({x:a}).evalf()\n",
    "                fb = fx.subs({x:b}).evalf()\n",
    "            else:\n",
    "                a = c\n",
    "                fa = fx.subs({x:a}).evalf()\n",
    "                fb = fx.subs({x:b}).evalf()\n",
    "    \n",
    "    #If the existance of a root cannot be determined, inform the user the provided solution may not be a root\n",
    "    else: \n",
    "        print('Unable to use the Intermediate Value Theorem to determine if a zero exists on the interval %s' %interval)\n",
    "        \n",
    "        \n",
    "    solution = c \n",
    "    \n",
    "    print('Using the bisection method we can approximate the solution of f(x) as x = {:.5f} in {} iterations' \n",
    "              .format(solution, stop_number))\n",
    "    \n",
    "    return fx, solution"
   ]
  },
  {
   "cell_type": "code",
   "execution_count": 4,
   "metadata": {},
   "outputs": [],
   "source": [
    "#Fixed Point Iteration Method for Finding Roots\n",
    "\n",
    "def FPI(fx, x_approx = 'n', x_0 = 0, stop_method = 'iter', stop_number = 10, print_L_c = 'n'):\n",
    "    \n",
    "    '''\n",
    "    This function will perform a check to confirm convergence, and then will return the results of the root approximation \n",
    "    using the Fixed Point Iteration (FPI) method.  Note, the root approximation will be performed regardless of the check \n",
    "    for convergence.\n",
    "    \n",
    "    INPUTS:\n",
    "    fx - Object\n",
    "        This is the function to be evaluated.  It must be entered in python synax for functions.\n",
    "        \n",
    "    x_approx - Float or Integar or String (OPTIONAL:  Default = n)\n",
    "        This is the approximate value of the root to check for liniear convergence.  If the L_c number is greater than one,\n",
    "        a warning message will appear informing the user that we cannot be sure that the method converges\n",
    "        If 'n' the L_c convergence check will be skiped.\n",
    "        \n",
    "    x_o - Float or Integer (OPTIONAL:  Default = 0)\n",
    "        This is the starting value for the algorighm, and is assumed sufficently close to the root for local convergence\n",
    "        \n",
    "    stop_method - string (OPTIONAL:  Default = 'iter')\n",
    "        'iter' will be used to stop the algorithm after the stated number of iterations; \n",
    "        'acc' stops after obtaining the stated degree of accuracy\n",
    "        \n",
    "    stop_number - integer (OPTIONAL:  Default = 10)\n",
    "         The number of iterations or correct decimal places reqired as indicated in stop_method\n",
    "         \n",
    "    print_L_c - string (OPTIONAL:  Default = n)\n",
    "        'n' - nothing happens\n",
    "        'y' - the value for L_c will be printed\n",
    "        \n",
    "    RETURN\n",
    "    The function will return both the original function, f(x), and the approximated root, x_n.\n",
    "    '''\n",
    "        \n",
    "    import sympy as sym\n",
    "    \n",
    "    #If x_approx is provided, determine the value for L_c and confirm if |L_x| < 1\n",
    "    if x_approx != 'n':\n",
    "        x_n = x_0\n",
    "        L_c = abs(sym.diff(fx)).subs({x:x_approx}).evalf()\n",
    "        \n",
    "        if L_c >= 1:\n",
    "            print('L_c is {}'.format(L_c))\n",
    "            print('WARNING:  This function may not converge locally')\n",
    "        elif print_L_c == 'y':                                      #Print the value of L_c if the print_L_c is requested\n",
    "            print('L_c = {:.5f}'.format(L_c))\n",
    "    \n",
    "    #Compute the algorighm using error if the stop method is accuracy\n",
    "    if stop_method == 'acc':\n",
    "        accuracy = 1\n",
    "        iterations = 0\n",
    "        while accuracy > stop_number:\n",
    "            x_1 = fx.subs({x:x_n}).evalf()\n",
    "            accuracy = abs(x_n - x_1)\n",
    "            x_n = x_1\n",
    "            iterations = iterations + 1\n",
    "    \n",
    "    #Compute the algorighm using iterations if the stop method is not accuracy\n",
    "    else:\n",
    "        iterations = stop_number\n",
    "        for i in range(iterations):\n",
    "            x_n = fx.subs({x:x_n}).evalf()\n",
    "        \n",
    "    print('Using FPI, and x_0 of {}, we are able to estimate the solution as {:.5f} in {} iterations'.format(x_0, x_n, iterations))\n",
    "        \n",
    "    return fx, x_n\n"
   ]
  },
  {
   "cell_type": "code",
   "execution_count": 5,
   "metadata": {},
   "outputs": [],
   "source": [
    "def Newton_Convergence_Check(fx, x_approx, acc = 0.000001):\n",
    "    \n",
    "    '''\n",
    "    This function is used to check for quadratic local convergence of f(x) for a given x_approx (x*) using the existance of \n",
    "    f''(x*), and f(x*) = 0, and f'(x*) != 0.  The continuity of f''(x) is assumed, and must be validated by the user.  \n",
    "    Additionally, f(x*) = 0 is actually |f(x*)| < the stated degree of accuracy\n",
    "    \n",
    "    INPUTS:\n",
    "    fx - Object\n",
    "        The function to be evaluated\n",
    "        \n",
    "    x_approx - Float or Integer\n",
    "        The expected root of fx\n",
    "        \n",
    "    acc - Float\n",
    "        The degree of accuracy to compare f(x*) = 0\n",
    "        \n",
    "    RETURN\n",
    "    A print statement is returnted confirming if the function converges quadratically or if we were unable to \n",
    "    determine quadradic local convergence (i.e. due to multiple roots or if f'(x) or f\"(x) is zero)\n",
    "    '''\n",
    "    \n",
    "    import sympy as sym\n",
    "    \n",
    "    #Check Convergence\n",
    "    f_x_approx = fx.subs({x:x_approx}).evalf()\n",
    "    f_prime = sym.diff(fx).subs({x:x_approx}).evalf()\n",
    "    f_double_prime = sym.diff(sym.diff(fx)).subs({x:x_approx}).evalf()\n",
    "        \n",
    "    if ((abs(f_x_approx) < acc) and (f_prime != 0) and (f_double_prime >= 0 or f_double_prime < 0)):\n",
    "        print('Newtons method is locally an quadratically convergent to x*')\n",
    "                      \n",
    "    else: print('Newtons method may not converge quadratically')\n",
    "    \n",
    "    return"
   ]
  },
  {
   "cell_type": "code",
   "execution_count": 6,
   "metadata": {},
   "outputs": [],
   "source": [
    "#Newton's Method\n",
    "\n",
    "def Newton(fx, x_0 = 0, stop_method = 'iter', stop_number = 10):\n",
    "    \n",
    "    '''\n",
    "    This function will perform Newton's Method to approximate the roots of a given polynomial as a function of x.\n",
    "    \n",
    "    INPUTS:\n",
    "    fx - Object\n",
    "        The function to be evaluated\n",
    "        \n",
    "    x_0 - Float or Integer\n",
    "        The x value to begin the algorithm.  x_0 is assumed to be sufficently close to the root\n",
    "        \n",
    "    stop_method - string (OPTIONAL:  Default = 'iter')\n",
    "        'iter' will be used to stop the algorithm after the stated number of iterations; \n",
    "        'acc' stops after obtaining the stated degree of accuracy\n",
    "        \n",
    "    stop_number - integer (OPTIONAL:  Default = 10)\n",
    "         The number of iterations or correct decimal places reqired as indicated in stop_method\n",
    "         \n",
    "    RETURN\n",
    "    The function will return both the original function, f(x), and the approximated root, x_n.\n",
    "    '''\n",
    "    \n",
    "    import sympy as sym\n",
    "    import math\n",
    "    \n",
    "    x_n = x_0\n",
    "    \n",
    "    #Compute the algorighm using error if the stop method is accuracy\n",
    "    if stop_method == 'acc':\n",
    "        iterations = 0\n",
    "        error = 1\n",
    "        while error > stop_number:\n",
    "            x_n_1 = x_n - (fx.subs({x:x_n}).evalf()/sym.diff(fx).subs({x:x_n}).evalf())\n",
    "            error = abs(x_n - x_n_1)\n",
    "            x_n = x_n_1\n",
    "            iterations = iterations + 1\n",
    "    #Compute the algorighm using iterations if the stop method is not accuracy\n",
    "    else:\n",
    "        iterations = stop_number\n",
    "        for i in range(iterations):\n",
    "            x_n = x_n - (fx.subs({x:x_n}).evalf()/sym.diff(fx).subs({x:x_n}).evalf())\n",
    "        \n",
    "    print('Using Newtons method, we estimate the solution as {:.5f} in {} iterations'.format(x_n, iterations))\n",
    "    \n",
    "    return fx, x_n"
   ]
  },
  {
   "cell_type": "code",
   "execution_count": 7,
   "metadata": {},
   "outputs": [],
   "source": [
    "#Secant Method\n",
    "\n",
    "def Secant(fx, x_0, x_1, stop_method = 'iter', stop_number = 10):\n",
    "    '''\n",
    "    This function will perform the Secant Method to approximate the roots of a given polynomial as a function of x.\n",
    "    \n",
    "    INPUTS:\n",
    "    fx - Object\n",
    "        The function to be evaluated\n",
    "        \n",
    "    x_0 - Float or Integer\n",
    "        The x value to begin the algorithm.  x_0 is assumed to be sufficently close to the root\n",
    "        \n",
    "    stop_method - string (OPTIONAL:  Default = 'iter')\n",
    "        'iter' will be used to stop the algorithm after the stated number of iterations; \n",
    "        'acc' stops after obtaining the stated degree of accuracy\n",
    "        \n",
    "    stop_number - integer (OPTIONAL:  Default = 10)\n",
    "         The number of iterations or correct decimal places reqired as indicated in stop_method\n",
    "         \n",
    "    RETURN\n",
    "    The function will return both the original function, f(x), and the approximated root, x_n.\n",
    "    '''\n",
    "    import sympy\n",
    "    \n",
    "    #Compute the algorighm using error if the stop method is accuracy\n",
    "    if stop_method == 'acc':\n",
    "        error = 1\n",
    "        iterations = 0\n",
    "        x_n = x_1\n",
    "        while error > stop_number:\n",
    "            x_n_1 = x_1 - (fx.subs({x:x_1}).evalf() * (x_1 - x_0)) / (fx.subs({x:x_1}).evalf() - fx.subs({x:x_0}))\n",
    "            error = abs(x_n_1 - x_n)\n",
    "            x_n = x_n_1\n",
    "            x_0 = x_1\n",
    "            x_1 = x_n\n",
    "            iterations = iterations + 1\n",
    "    \n",
    "    #Compute the algorighm using iterations if the stop method is not accuracy\n",
    "    else:\n",
    "        iterations = stop_number\n",
    "        for i in range(iterations):\n",
    "            x_n = x_1 - (fx.subs({x:x_1}).evalf() * (x_1 - x_0)) / (fx.subs({x:x_1}).evalf() - fx.subs({x:x_0}))\n",
    "            x_0 = x_1\n",
    "            x_1 = x_n\n",
    "            \n",
    "    print('Using the Secant Method, we estimate the solution as {:.5f} in {} iterations'.format(x_n, iterations))\n",
    "    \n",
    "    return(fx, x_n)           "
   ]
  },
  {
   "cell_type": "code",
   "execution_count": 8,
   "metadata": {},
   "outputs": [],
   "source": [
    "def sol_check(fx, root):\n",
    "    '''\n",
    "    This function verifys the results of the root finding method by evaluating the original function, f(x) at the \n",
    "    approximated value x* for the root.  The closer that f(x*) is to zero the better approximation of x*.\n",
    "    \n",
    "    INPUTS:\n",
    "    fx - Object\n",
    "        The polynomial as a function of x where f(x) = 0\n",
    "        \n",
    "    root - Float or Integer (Likely Float)\n",
    "        The approximated value for x*\n",
    "        \n",
    "    RETURN:\n",
    "    This function returns the value of the function f(x*).\n",
    "    '''\n",
    "    import sympy\n",
    "    return fx.subs({x:root}).evalf()"
   ]
  },
  {
   "cell_type": "code",
   "execution_count": 50,
   "metadata": {},
   "outputs": [],
   "source": [
    "def aitken_del(seq):\n",
    "    '''\n",
    "    This function performes Aitken's Delta method on a converging sequence to generate another sequence that\n",
    "    converges faster.\n",
    "    \n",
    "    INPUTS:\n",
    "    seq - list\n",
    "        This is a list containing the first n terms of a convergent series.  Note the first term of this series is \n",
    "        expected to be the x_0 term used in estimating with the Newton's method definition, and will be ignored.\n",
    "        \n",
    "    RETURN:\n",
    "    This function returns a n-3 term list with a convergent series\n",
    "    '''\n",
    "    \n",
    "    acc_seq = []\n",
    "    for i in range(len(seq)-3):\n",
    "        n = i+1\n",
    "        p_n_hat = p_n[n] - ((p_n[n+1]-p_n[n])**2)/(p_n[n+2]-2*p_n[n+1]+p_n[n])\n",
    "        acc_seq.append(p_n_hat)\n",
    "        \n",
    "    return acc_seq\n"
   ]
  },
  {
   "cell_type": "markdown",
   "metadata": {},
   "source": [
    "**Question 1:**\n",
    "Find the first six iterations to approximate the root of x^3 + x^2 - 5 = 0 in the interval \\[1, 2\\]"
   ]
  },
  {
   "cell_type": "code",
   "execution_count": 9,
   "metadata": {},
   "outputs": [
    {
     "name": "stdout",
     "output_type": "stream",
     "text": [
      "Using the bisection method we can approximate the solution of f(x) as x = 1.42188 in 6 iterations\n"
     ]
    }
   ],
   "source": [
    "q1 = bisect(x**3 + x**2 - 5, interval = [1,2], stop_number = 6)"
   ]
  },
  {
   "cell_type": "markdown",
   "metadata": {},
   "source": [
    "**Question 2:**\n",
    "Find the first six iterations to approximate the root of 5x^3 - 2x^2 - 4x - 3 = 0 in the interval \\[0, 3\\]"
   ]
  },
  {
   "cell_type": "code",
   "execution_count": 10,
   "metadata": {},
   "outputs": [
    {
     "name": "stdout",
     "output_type": "stream",
     "text": [
      "Using the bisection method we can approximate the solution of f(x) as x = 1.34375 in 6 iterations\n"
     ]
    }
   ],
   "source": [
    "q2 = bisect(5*x**3 -2*x**2 - 4*x - 3, interval = [1,3], stop_number = 6)"
   ]
  },
  {
   "cell_type": "markdown",
   "metadata": {},
   "source": [
    "**Question 3:**\n",
    "Approximate the root of 5x^3 - 2x^2 - 4x - 3 = 0 in the interval \\[1, 3\\] to four correct decimal places."
   ]
  },
  {
   "cell_type": "code",
   "execution_count": 11,
   "metadata": {},
   "outputs": [
    {
     "name": "stdout",
     "output_type": "stream",
     "text": [
      "Using the bisection method we can approximate the solution of f(x) as x = 1.33548 in 15 iterations\n"
     ]
    }
   ],
   "source": [
    "q3 = bisect(5*x**3 -2*x**2 - 4*x - 3, interval = [0,3], stop_method = 'acc', stop_number = .0001)"
   ]
  },
  {
   "cell_type": "markdown",
   "metadata": {},
   "source": [
    "**Question 4:**\n",
    "User computer code for FPI to find a root of cos(x) = sin(x).  Also, check its local convergence using the convergence theorem"
   ]
  },
  {
   "cell_type": "code",
   "execution_count": 12,
   "metadata": {},
   "outputs": [
    {
     "name": "stdout",
     "output_type": "stream",
     "text": [
      "L_c = 0.41421\n",
      "Using FPI, and x_0 of 0.5, we are able to estimate the solution as 0.78404 in 6 iterations\n"
     ]
    }
   ],
   "source": [
    "q4 = FPI(cos(x)-sin(x) + x, x_approx = pi/4, x_0 = .5, stop_method = 'iter', stop_number = 6, print_L_c = 'y')"
   ]
  },
  {
   "cell_type": "markdown",
   "metadata": {},
   "source": [
    "**Question 5**\n",
    "Consider the function f(x) = 2x^4 + 6x^3 -10x^2 - 5x - 3 in the interval \\[1, 2\\].  Perform six iterations to approximate a zero of f(x) using Newton's Method starting the approximation with x_0 = 2. "
   ]
  },
  {
   "cell_type": "code",
   "execution_count": 13,
   "metadata": {},
   "outputs": [
    {
     "name": "stdout",
     "output_type": "stream",
     "text": [
      "Using Newtons method, we estimate the solution as 1.57328 in 6 iterations\n"
     ]
    }
   ],
   "source": [
    "q5 = Newton(2*x**4 + 6*x**3 - 10*x**2 - 5*x - 3, x_0 = 2, stop_method = 'iter', stop_number = 6)"
   ]
  },
  {
   "cell_type": "code",
   "execution_count": 52,
   "metadata": {},
   "outputs": [
    {
     "name": "stdout",
     "output_type": "stream",
     "text": [
      "Using Newtons method, we estimate the solution as 0.75682 in 2 iterations\n"
     ]
    },
    {
     "data": {
      "text/plain": [
       "(x**3 + x**2 - 1, 0.756818181818182)"
      ]
     },
     "execution_count": 52,
     "metadata": {},
     "output_type": "execute_result"
    }
   ],
   "source": [
    "Newton(x**3+x**2-1, x_0 = 1, stop_number = 2)"
   ]
  },
  {
   "cell_type": "markdown",
   "metadata": {},
   "source": [
    "**Question 6**\n",
    "Consider the function f(x) = x^3 + 5x^2 - 3x - 8 in the interval \\[1, 2\\].  Perform six iterations to approximate a zero of f(x) using Newton's Method with starting approximation of x_0 = 2."
   ]
  },
  {
   "cell_type": "code",
   "execution_count": 15,
   "metadata": {},
   "outputs": [
    {
     "name": "stdout",
     "output_type": "stream",
     "text": [
      "Using Newtons method, we estimate the solution as 1.37939 in 6 iterations\n"
     ]
    }
   ],
   "source": [
    "q6 = Newton(x**3 + 5*x**2 - 3*x - 8, x_0 = 2, stop_method = 'iter', stop_number = 6)"
   ]
  },
  {
   "cell_type": "markdown",
   "metadata": {},
   "source": [
    "**Question 7**\n",
    "Using initial guess x_0 = 2, approximate the root of x^3+5x^2-3x=8 to four correct decimal places"
   ]
  },
  {
   "cell_type": "code",
   "execution_count": 16,
   "metadata": {},
   "outputs": [
    {
     "name": "stdout",
     "output_type": "stream",
     "text": [
      "Using Newtons method, we estimate the solution as 1.37939 in 5 iterations\n"
     ]
    }
   ],
   "source": [
    "q7 = Newton(x**3 + 5*x**2 - 3*x - 8, x_0 = 2, stop_method = 'acc', stop_number = .000001)"
   ]
  },
  {
   "cell_type": "markdown",
   "metadata": {},
   "source": [
    "**Question 8:**\n",
    "Let f(x) = e^x + x -7.  Does this function have a zero on (1,2)?  Using Newton's Method and initial guess x_0 = 2, approximate the root of fx to four correct decimal places."
   ]
  },
  {
   "cell_type": "code",
   "execution_count": 17,
   "metadata": {},
   "outputs": [
    {
     "name": "stdout",
     "output_type": "stream",
     "text": [
      "By the Intermediate Value Theorem there exists a zero in the interval of [1, 2]\n"
     ]
    }
   ],
   "source": [
    "zero_check(E**x + x - 7, [1,2])"
   ]
  },
  {
   "cell_type": "code",
   "execution_count": 18,
   "metadata": {},
   "outputs": [
    {
     "name": "stdout",
     "output_type": "stream",
     "text": [
      "Using Newtons method, we estimate the solution as 1.67282 in 4 iterations\n"
     ]
    }
   ],
   "source": [
    "q8 = Newton(E**x + x - 7, x_0 = 2, stop_method = 'acc', stop_number = .00001)"
   ]
  },
  {
   "cell_type": "markdown",
   "metadata": {},
   "source": [
    "**Question 9:**\n",
    "Consider the function f(x) = x^3 - 4x^2 - x +2 in the interval \\[4, 5\\].  Perform six iterations to approximate a zero of f(x) using the Secant Method with starting approximations of x_0 = 5 and x_1 = 4.8."
   ]
  },
  {
   "cell_type": "code",
   "execution_count": 19,
   "metadata": {},
   "outputs": [
    {
     "name": "stdout",
     "output_type": "stream",
     "text": [
      "Using the Secant Method, we estimate the solution as 4.12489 in 6 iterations\n"
     ]
    }
   ],
   "source": [
    "q9 =Secant(x**3 - 4*x**2 - x + 2, x_0 = 5, x_1 = 4.8, stop_method = 'iter', stop_number = 6)"
   ]
  },
  {
   "cell_type": "markdown",
   "metadata": {},
   "source": [
    "**Question 10:**\n",
    "Consider the function f(x) = x^3 - 4x^2 - x + 2.  Using the Secant Method with starting approximations with x_0 = 5 and x_1 = 4.8, approximate a zero of f(x) to four correct decimal places."
   ]
  },
  {
   "cell_type": "code",
   "execution_count": 20,
   "metadata": {},
   "outputs": [
    {
     "name": "stdout",
     "output_type": "stream",
     "text": [
      "Using the Secant Method, we estimate the solution as 4.12489 in 6 iterations\n"
     ]
    }
   ],
   "source": [
    "q10 = Secant(x**3 - 4*x**2 - x + 2, x_0 = 5, x_1 = 4.8, stop_method = 'acc', stop_number = .00001)"
   ]
  },
  {
   "cell_type": "markdown",
   "metadata": {},
   "source": [
    "**Perform a check to ensure that the estimated roots are very close to zero**"
   ]
  },
  {
   "cell_type": "code",
   "execution_count": 21,
   "metadata": {},
   "outputs": [
    {
     "name": "stdout",
     "output_type": "stream",
     "text": [
      "Question  1: f(x) = x**3 + x**2 - 5 evaluated at 1.421875 is -0.103626251220703\n",
      "Question  2: f(x) = 5*x**3 - 2*x**2 - 4*x - 3 evaluated at 1.34375 is 0.145477294921875\n",
      "Question  3: f(x) = 5*x**3 - 2*x**2 - 4*x - 3 evaluated at 1.335479736328125 is 0.000250257806925447\n",
      "Question  4: f(x) = cos(x) - sin(x) evaluated at 0.784035213548197 is 0.00192750156488020\n",
      "Question  5: f(x) = 2*x**4 + 6*x**3 - 10*x**2 - 5*x - 3 evaluated at 1.57327951499518 is 3.55271367880050E-15\n",
      "Question  6: f(x) = x**3 + 5*x**2 - 3*x - 8 evaluated at 1.37938985766816 is 1.77635683940025E-15\n",
      "Question  7: f(x) = x**3 + 5*x**2 - 3*x - 8 evaluated at 1.37938985766816 is 1.77635683940025E-15\n",
      "Question  8: f(x) = x + exp(x) - 7 evaluated at 1.67282169862893 is 1.49213974509621E-13\n",
      "Question  9: f(x) = x**3 - 4*x**2 - x + 2 evaluated at 4.12488541977140 is 1.16273213279783E-10\n",
      "Question 10: f(x) = x**3 - 4*x**2 - x + 2 evaluated at 4.12488541977140 is 1.16273213279783E-10\n"
     ]
    }
   ],
   "source": [
    "print('Question  1: f(x) = {} evaluated at {} is {}'.format(q1[0], q1[1], sol_check(q1[0],q1[1])))\n",
    "print('Question  2: f(x) = {} evaluated at {} is {}'.format(q2[0], q2[1], sol_check(q2[0],q2[1])))\n",
    "print('Question  3: f(x) = {} evaluated at {} is {}'.format(q3[0], q3[1], sol_check(q3[0],q3[1])))\n",
    "print('Question  4: f(x) = cos(x) - sin(x) evaluated at {} is {}'.format(q4[1], sol_check(cos(x)-sin(x),q4[1])))\n",
    "print('Question  5: f(x) = {} evaluated at {} is {}'.format(q5[0], q5[1], sol_check(q5[0],q5[1])))\n",
    "print('Question  6: f(x) = {} evaluated at {} is {}'.format(q6[0], q6[1], sol_check(q6[0],q6[1])))\n",
    "print('Question  7: f(x) = {} evaluated at {} is {}'.format(q7[0], q7[1], sol_check(q7[0],q7[1])))\n",
    "print('Question  8: f(x) = {} evaluated at {} is {}'.format(q8[0], q8[1], sol_check(q8[0],q8[1])))\n",
    "print('Question  9: f(x) = {} evaluated at {} is {}'.format(q9[0], q9[1], sol_check(q9[0],q9[1])))\n",
    "print('Question 10: f(x) = {} evaluated at {} is {}'.format(q10[0], q10[1], sol_check(q10[0],q10[1])))"
   ]
  },
  {
   "cell_type": "code",
   "execution_count": null,
   "metadata": {},
   "outputs": [],
   "source": []
  }
 ],
 "metadata": {
  "kernelspec": {
   "display_name": "Python 3",
   "language": "python",
   "name": "python3"
  },
  "language_info": {
   "codemirror_mode": {
    "name": "ipython",
    "version": 3
   },
   "file_extension": ".py",
   "mimetype": "text/x-python",
   "name": "python",
   "nbconvert_exporter": "python",
   "pygments_lexer": "ipython3",
   "version": "3.8.3"
  }
 },
 "nbformat": 4,
 "nbformat_minor": 4
}
